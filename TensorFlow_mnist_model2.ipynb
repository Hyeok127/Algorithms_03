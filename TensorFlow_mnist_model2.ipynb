{
  "cells": [
    {
      "cell_type": "markdown",
      "metadata": {
        "id": "gMiTEPURlQ4O"
      },
      "source": [
        "## import library"
      ]
    },
    {
      "cell_type": "code",
      "execution_count": 24,
      "metadata": {
        "id": "2TpIZ1silQ4T"
      },
      "outputs": [],
      "source": [
        "import tensorflow as tf\n",
        "from tensorflow import keras\n",
        "from tensorflow.keras import layers, models\n",
        "import numpy as np \n",
        "import matplotlib.pyplot as plt "
      ]
    },
    {
      "cell_type": "markdown",
      "metadata": {
        "id": "4fA8tnQulQ4V"
      },
      "source": [
        "## Get MNIST Data. \n",
        "### MNIST data loacted in tensorflow > keras > datasets > mnist \n",
        "### Split data to (train images, train labels) and (test images, test labels)"
      ]
    },
    {
      "cell_type": "code",
      "execution_count": 25,
      "metadata": {
        "id": "3vdfyIYplQ4W"
      },
      "outputs": [],
      "source": [
        "mnist = keras.datasets.mnist\n",
        "(train_images, train_labels), (test_images, test_labels) = mnist.load_data()"
      ]
    },
    {
      "cell_type": "markdown",
      "metadata": {
        "id": "E8tmT4AJlQ4W"
      },
      "source": [
        "### There are Total 60000 Train images and Train labels. (6000 images for single class)\n",
        "### Shape of single image is 28 x 28 (pixel)\n",
        "### "
      ]
    },
    {
      "cell_type": "code",
      "execution_count": 26,
      "metadata": {
        "colab": {
          "base_uri": "https://localhost:8080/"
        },
        "id": "-Cn_TCqYlQ4X",
        "outputId": "d0411b33-373b-487a-fe1f-48b3363e98db"
      },
      "outputs": [
        {
          "output_type": "stream",
          "name": "stdout",
          "text": [
            "Shape of Train images : (60000, 28, 28)\n",
            "Shape of Train labels :  (60000,)\n",
            "\n",
            "Shape of Test images :  (10000, 28, 28)\n",
            "Shape of Test labels :  (10000,)\n"
          ]
        }
      ],
      "source": [
        "print('Shape of Train images :',train_images.shape)\n",
        "print('Shape of Train labels : ', train_labels.shape)\n",
        "print('\\nShape of Test images : ', test_images.shape)\n",
        "print(\"Shape of Test labels : \",test_labels.shape)"
      ]
    },
    {
      "cell_type": "code",
      "execution_count": 27,
      "metadata": {
        "colab": {
          "base_uri": "https://localhost:8080/"
        },
        "id": "_dvt0zGllQ4Z",
        "outputId": "68be562d-4d42-4ad5-cc1c-c03eed09eff4"
      },
      "outputs": [
        {
          "output_type": "stream",
          "name": "stdout",
          "text": [
            "Train labels :  [5 0 4 ... 5 6 8]\n"
          ]
        }
      ],
      "source": [
        "print('Train labels : ',train_labels)"
      ]
    },
    {
      "cell_type": "markdown",
      "metadata": {
        "id": "rdP5JBJmlQ4Z"
      },
      "source": [
        "## Plot first train image. \n",
        "### when value is close to 0 : dark \n",
        "### when value is close to 255 : white"
      ]
    },
    {
      "cell_type": "code",
      "execution_count": 28,
      "metadata": {
        "colab": {
          "base_uri": "https://localhost:8080/"
        },
        "id": "rXS9oQ1QlQ4a",
        "outputId": "b2bcf3c0-6905-4b64-c97f-6fe48dfea6cc"
      },
      "outputs": [
        {
          "output_type": "stream",
          "name": "stdout",
          "text": [
            "[[  0   0   0   0   0   0   0   0   0   0   0   0   0   0   0   0   0   0\n",
            "    0   0   0   0   0   0   0   0   0   0]\n",
            " [  0   0   0   0   0   0   0   0   0   0   0   0   0   0   0   0   0   0\n",
            "    0   0   0   0   0   0   0   0   0   0]\n",
            " [  0   0   0   0   0   0   0   0   0   0   0   0   0   0   0   0   0   0\n",
            "    0   0   0   0   0   0   0   0   0   0]\n",
            " [  0   0   0   0   0   0   0   0   0   0   0   0   0   0   0   0   0   0\n",
            "    0   0   0   0   0   0   0   0   0   0]\n",
            " [  0   0   0   0   0   0   0   0   0   0   0   0   0   0   0  51 159 253\n",
            "  159  50   0   0   0   0   0   0   0   0]\n",
            " [  0   0   0   0   0   0   0   0   0   0   0   0   0   0  48 238 252 252\n",
            "  252 237   0   0   0   0   0   0   0   0]\n",
            " [  0   0   0   0   0   0   0   0   0   0   0   0   0  54 227 253 252 239\n",
            "  233 252  57   6   0   0   0   0   0   0]\n",
            " [  0   0   0   0   0   0   0   0   0   0   0  10  60 224 252 253 252 202\n",
            "   84 252 253 122   0   0   0   0   0   0]\n",
            " [  0   0   0   0   0   0   0   0   0   0   0 163 252 252 252 253 252 252\n",
            "   96 189 253 167   0   0   0   0   0   0]\n",
            " [  0   0   0   0   0   0   0   0   0   0  51 238 253 253 190 114 253 228\n",
            "   47  79 255 168   0   0   0   0   0   0]\n",
            " [  0   0   0   0   0   0   0   0   0  48 238 252 252 179  12  75 121  21\n",
            "    0   0 253 243  50   0   0   0   0   0]\n",
            " [  0   0   0   0   0   0   0   0  38 165 253 233 208  84   0   0   0   0\n",
            "    0   0 253 252 165   0   0   0   0   0]\n",
            " [  0   0   0   0   0   0   0   7 178 252 240  71  19  28   0   0   0   0\n",
            "    0   0 253 252 195   0   0   0   0   0]\n",
            " [  0   0   0   0   0   0   0  57 252 252  63   0   0   0   0   0   0   0\n",
            "    0   0 253 252 195   0   0   0   0   0]\n",
            " [  0   0   0   0   0   0   0 198 253 190   0   0   0   0   0   0   0   0\n",
            "    0   0 255 253 196   0   0   0   0   0]\n",
            " [  0   0   0   0   0   0  76 246 252 112   0   0   0   0   0   0   0   0\n",
            "    0   0 253 252 148   0   0   0   0   0]\n",
            " [  0   0   0   0   0   0  85 252 230  25   0   0   0   0   0   0   0   0\n",
            "    7 135 253 186  12   0   0   0   0   0]\n",
            " [  0   0   0   0   0   0  85 252 223   0   0   0   0   0   0   0   0   7\n",
            "  131 252 225  71   0   0   0   0   0   0]\n",
            " [  0   0   0   0   0   0  85 252 145   0   0   0   0   0   0   0  48 165\n",
            "  252 173   0   0   0   0   0   0   0   0]\n",
            " [  0   0   0   0   0   0  86 253 225   0   0   0   0   0   0 114 238 253\n",
            "  162   0   0   0   0   0   0   0   0   0]\n",
            " [  0   0   0   0   0   0  85 252 249 146  48  29  85 178 225 253 223 167\n",
            "   56   0   0   0   0   0   0   0   0   0]\n",
            " [  0   0   0   0   0   0  85 252 252 252 229 215 252 252 252 196 130   0\n",
            "    0   0   0   0   0   0   0   0   0   0]\n",
            " [  0   0   0   0   0   0  28 199 252 252 253 252 252 233 145   0   0   0\n",
            "    0   0   0   0   0   0   0   0   0   0]\n",
            " [  0   0   0   0   0   0   0  25 128 252 253 252 141  37   0   0   0   0\n",
            "    0   0   0   0   0   0   0   0   0   0]\n",
            " [  0   0   0   0   0   0   0   0   0   0   0   0   0   0   0   0   0   0\n",
            "    0   0   0   0   0   0   0   0   0   0]\n",
            " [  0   0   0   0   0   0   0   0   0   0   0   0   0   0   0   0   0   0\n",
            "    0   0   0   0   0   0   0   0   0   0]\n",
            " [  0   0   0   0   0   0   0   0   0   0   0   0   0   0   0   0   0   0\n",
            "    0   0   0   0   0   0   0   0   0   0]\n",
            " [  0   0   0   0   0   0   0   0   0   0   0   0   0   0   0   0   0   0\n",
            "    0   0   0   0   0   0   0   0   0   0]]\n"
          ]
        }
      ],
      "source": [
        "print(train_images[1])"
      ]
    },
    {
      "cell_type": "markdown",
      "metadata": {
        "id": "SsefkccGlQ4a"
      },
      "source": [
        "### Plot First 10 Train images and Corresponding labels  "
      ]
    },
    {
      "cell_type": "code",
      "execution_count": 29,
      "metadata": {
        "colab": {
          "base_uri": "https://localhost:8080/",
          "height": 155
        },
        "id": "P9KIGWY_lQ4b",
        "outputId": "3f8c326a-0813-4935-8bef-696619001b26"
      },
      "outputs": [
        {
          "output_type": "stream",
          "name": "stdout",
          "text": [
            "First 10 Train images in MNIST dataset\n",
            "\n"
          ]
        },
        {
          "output_type": "display_data",
          "data": {
            "text/plain": [
              "<Figure size 432x288 with 10 Axes>"
            ],
            "image/png": "[encoded data removed]"
          },
          "metadata": {}
        },
        {
          "output_type": "stream",
          "name": "stdout",
          "text": [
            "\n",
            "Train labels match with Train label sequentialy\n",
            " [5 0 4 1 9 2 1 3 1 4]\n"
          ]
        }
      ],
      "source": [
        "print('First 10 Train images in MNIST dataset\\n')\n",
        "for i in range(10):\n",
        "    plt.subplot(1, 10, i+1)\n",
        "    plt.xticks([])\n",
        "    plt.yticks([])\n",
        "    plt.imshow(train_images[i])\n",
        "plt.show()\n",
        "print('\\nTrain labels match with Train label sequentialy\\n',train_labels[:10])\n",
        "\n"
      ]
    },
    {
      "cell_type": "markdown",
      "metadata": {
        "id": "KiFXBfcUlQ4b"
      },
      "source": [
        "## Important\n",
        "### Change data shape (60000 x 28 x 28) to (60000 x 28 x 28 x 1)\n"
      ]
    },
    {
      "cell_type": "code",
      "execution_count": 30,
      "metadata": {
        "id": "-clNSMO2lQ4c"
      },
      "outputs": [],
      "source": [
        "train_images = tf.reshape(train_images, [-1, 28, 28, 1])\n",
        "test_images = tf.reshape(test_images, [-1, 28, 28, 1])"
      ]
    },
    {
      "cell_type": "markdown",
      "metadata": {
        "id": "rpmJYb0NlQ4c"
      },
      "source": [
        "# Select one convolution model below \n",
        "## There are 3 example models. \n",
        "## 3, 5, 7 layer each \n",
        "## MODEL 1 : 3 Layers with 1 Convolution layer  \n",
        "## MODEL 2 : 5 Layers with 2 Convolution layer \n",
        "## MODEL 3 : 7 Layers with 4 Convolution layer "
      ]
    },
    {
      "cell_type": "code",
      "execution_count": 31,
      "metadata": {
        "id": "DyodjpHNlQ4d"
      },
      "outputs": [],
      "source": [
        "def select_model(model_number):\n",
        "    if model_number == 1:\n",
        "        model = keras.models.Sequential([\n",
        "                    keras.layers.Conv2D(32, (3,3), activation = 'relu', input_shape = (28, 28,1)),  # layer 1 \n",
        "                    keras.layers.MaxPool2D((2,2)),                                                  # layer 2 \n",
        "                    keras.layers.Flatten(),\n",
        "                    keras.layers.Dense(10, activation = 'softmax')])                                # layer 3\n",
        "\n",
        "    if model_number == 2:\n",
        "        model = keras.models.Sequential([\n",
        "                    keras.layers.Conv2D(32, (3,3), activation = 'relu', input_shape=(28,28,1)),     # layer 1 \n",
        "                    keras.layers.MaxPool2D((2,2)),                                                  # layer 2\n",
        "                    keras.layers.Conv2D(64, (3,3), activation = 'relu'),                            # layer 3 \n",
        "                    keras.layers.MaxPool2D((2,2)),                                                  # layer 4\n",
        "                    keras.layers.Flatten(),\n",
        "                    keras.layers.Dense(10, activation = 'softmax')])                                # layer 5\n",
        "                    \n",
        "    if model_number == 3: \n",
        "        model = keras.models.Sequential([\n",
        "                    keras.layers.Conv2D(32, (3,3), activation = 'relu', input_shape = (28, 28,1)),  # layer 1\n",
        "                    keras.layers.MaxPool2D((2,2)),                                                  # layer 2\n",
        "                    keras.layers.Conv2D(64, (3,3), activation = 'relu'),                            # layer 3\n",
        "                    keras.layers.Conv2D(64, (3,3), activation = 'relu'),                            # layer 4\n",
        "                    keras.layers.MaxPool2D((2,2)),                                                  # layer 5\n",
        "                    keras.layers.Conv2D(128, (3,3), activation = 'relu'),                           # layer 6\n",
        "                    keras.layers.Flatten(),\n",
        "                    keras.layers.Dense(10, activation = 'softmax')])                                # layer 7\n",
        "    \n",
        "    return model \n",
        "\n",
        "\n"
      ]
    },
    {
      "cell_type": "code",
      "execution_count": 32,
      "metadata": {
        "id": "iJ8aeUvwlQ4e"
      },
      "outputs": [],
      "source": [
        "model = select_model(2)"
      ]
    },
    {
      "cell_type": "markdown",
      "metadata": {
        "id": "j8wPInZ5lQ4f"
      },
      "source": [
        "## If you want to see information of model, model.summary() will help\n",
        "### summary() is also built in function "
      ]
    },
    {
      "cell_type": "code",
      "execution_count": 33,
      "metadata": {
        "colab": {
          "base_uri": "https://localhost:8080/"
        },
        "id": "fUD3OQPOlQ4f",
        "outputId": "d73303db-e4c5-45d2-f509-9c9b885b9db9"
      },
      "outputs": [
        {
          "output_type": "stream",
          "name": "stdout",
          "text": [
            "Model: \"sequential_1\"\n",
            "_________________________________________________________________\n",
            " Layer (type)                Output Shape              Param #   \n",
            "=================================================================\n",
            " conv2d_1 (Conv2D)           (None, 26, 26, 32)        320       \n",
            "                                                                 \n",
            " max_pooling2d_1 (MaxPooling  (None, 13, 13, 32)       0         \n",
            " 2D)                                                             \n",
            "                                                                 \n",
            " conv2d_2 (Conv2D)           (None, 11, 11, 64)        18496     \n",
            "                                                                 \n",
            " max_pooling2d_2 (MaxPooling  (None, 5, 5, 64)         0         \n",
            " 2D)                                                             \n",
            "                                                                 \n",
            " flatten_1 (Flatten)         (None, 1600)              0         \n",
            "                                                                 \n",
            " dense_1 (Dense)             (None, 10)                16010     \n",
            "                                                                 \n",
            "=================================================================\n",
            "Total params: 34,826\n",
            "Trainable params: 34,826\n",
            "Non-trainable params: 0\n",
            "_________________________________________________________________\n"
          ]
        }
      ],
      "source": [
        "model.summary()"
      ]
    },
    {
      "cell_type": "markdown",
      "metadata": {
        "id": "4Vp7losHlQ4f"
      },
      "source": [
        "## Components in training step \n",
        "### Optimizer, Loss function, accuracy metrics "
      ]
    },
    {
      "cell_type": "code",
      "execution_count": 34,
      "metadata": {
        "id": "l_GWVvhylQ4g"
      },
      "outputs": [],
      "source": [
        "model.compile(\n",
        "    optimizer = 'adam',\n",
        "    loss = 'sparse_categorical_crossentropy',\n",
        "    metrics = ['accuracy']\n",
        ")"
      ]
    },
    {
      "cell_type": "markdown",
      "metadata": {
        "id": "-_yyPscrlQ4g"
      },
      "source": [
        "## Training Step \n",
        "## Training for 5 epochs. "
      ]
    },
    {
      "cell_type": "code",
      "execution_count": 35,
      "metadata": {
        "colab": {
          "base_uri": "https://localhost:8080/"
        },
        "id": "jqZaGQ6WlQ4g",
        "outputId": "2aaf80c0-18fe-42e4-fe95-616258f1160c"
      },
      "outputs": [
        {
          "output_type": "stream",
          "name": "stdout",
          "text": [
            "Epoch 1/5\n",
            "1875/1875 [==============================] - 55s 29ms/step - loss: 0.3750 - accuracy: 0.9468\n",
            "Epoch 2/5\n",
            "1875/1875 [==============================] - 57s 30ms/step - loss: 0.0697 - accuracy: 0.9797\n",
            "Epoch 3/5\n",
            "1875/1875 [==============================] - 56s 30ms/step - loss: 0.0571 - accuracy: 0.9830\n",
            "Epoch 4/5\n",
            "1875/1875 [==============================] - 54s 29ms/step - loss: 0.0470 - accuracy: 0.9855\n",
            "Epoch 5/5\n",
            "1875/1875 [==============================] - 55s 30ms/step - loss: 0.0430 - accuracy: 0.9875\n"
          ]
        },
        {
          "output_type": "execute_result",
          "data": {
            "text/plain": [
              "<keras.callbacks.History at 0x7fe2b13eb3d0>"
            ]
          },
          "metadata": {},
          "execution_count": 35
        }
      ],
      "source": [
        "model.fit(train_images, train_labels,  epochs = 5)"
      ]
    },
    {
      "cell_type": "markdown",
      "metadata": {
        "id": "UvDLl8_jlQ4h"
      },
      "source": [
        "## Test Step \n",
        "## Perform Test with Test data "
      ]
    },
    {
      "cell_type": "code",
      "execution_count": 36,
      "metadata": {
        "colab": {
          "base_uri": "https://localhost:8080/"
        },
        "id": "R_CBhXx_lQ4h",
        "outputId": "1486911f-aba2-47b6-eefe-d53e68ae8deb"
      },
      "outputs": [
        {
          "output_type": "stream",
          "name": "stdout",
          "text": [
            "313/313 - 3s - loss: 0.0609 - accuracy: 0.9828 - 3s/epoch - 9ms/step\n",
            "\n",
            "Test loss :  0.060863055288791656\n",
            "Test accuracy : 0.9828000068664551\n"
          ]
        }
      ],
      "source": [
        "test_loss, accuracy = model.evaluate(test_images, test_labels, verbose = 2)\n",
        "print('\\nTest loss : ', test_loss)\n",
        "print('Test accuracy :', accuracy)"
      ]
    },
    {
      "cell_type": "markdown",
      "metadata": {
        "id": "CUMVIePglQ4i"
      },
      "source": [
        "## Before prediction, change test image's type to float 32. "
      ]
    },
    {
      "cell_type": "code",
      "execution_count": 37,
      "metadata": {
        "id": "rGhRyrFRlQ4i"
      },
      "outputs": [],
      "source": [
        "test_images = tf.cast(test_images, tf.float32)\n",
        "pred = model.predict(test_images)\n",
        "Number = [0,1,2,3,4,5,6,7,8,9]"
      ]
    },
    {
      "cell_type": "code",
      "execution_count": 38,
      "metadata": {
        "colab": {
          "base_uri": "https://localhost:8080/"
        },
        "id": "2CoGoUKWlQ4i",
        "outputId": "296a5ff2-43b0-47bb-9ed1-4c6546f74590"
      },
      "outputs": [
        {
          "output_type": "stream",
          "name": "stdout",
          "text": [
            "Prediction :  (10000, 10)\n",
            "Test labels :  (10000,)\n"
          ]
        }
      ],
      "source": [
        "print('Prediction : ', pred.shape)\n",
        "print('Test labels : ', test_labels.shape)"
      ]
    },
    {
      "cell_type": "markdown",
      "metadata": {
        "id": "hpIoRNwRlQ4j"
      },
      "source": [
        "## Functions for plot images, probability"
      ]
    },
    {
      "cell_type": "code",
      "execution_count": 39,
      "metadata": {
        "id": "BvXCBZ8BlQ4j"
      },
      "outputs": [],
      "source": [
        "def plot_image(i, predictions_array, true_label, img):\n",
        "  predictions_array, true_label, img = predictions_array[i], true_label[i], img[i]\n",
        "  plt.grid(False)\n",
        "  plt.xticks([])\n",
        "  plt.yticks([])\n",
        "\n",
        "  plt.imshow(img, cmap=plt.cm.binary)\n",
        "\n",
        "  predicted_label = np.argmax(predictions_array)\n",
        "  if predicted_label == true_label:\n",
        "    color = 'blue'\n",
        "  else:\n",
        "    color = 'red'\n",
        "\n",
        "  plt.xlabel(\"{} {:2.0f}% ({})\".format(Number[predicted_label],\n",
        "                                100*np.max(predictions_array),\n",
        "                                Number[true_label]),\n",
        "                                color=color)\n",
        "\n",
        "def plot_value_array(i, predictions_array, true_label):\n",
        "  predictions_array, true_label = predictions_array[i], true_label[i]\n",
        "  plt.grid(False)\n",
        "  plt.xticks([])\n",
        "  plt.yticks([])\n",
        "  thisplot = plt.bar(range(10), predictions_array, color=\"#777777\")\n",
        "  plt.ylim([0, 1])\n",
        "  predicted_label = np.argmax(predictions_array)\n",
        "  plt.xticks(Number)\n",
        "\n",
        "  thisplot[predicted_label].set_color('red')\n",
        "  thisplot[true_label].set_color('blue')"
      ]
    },
    {
      "cell_type": "code",
      "execution_count": 40,
      "metadata": {
        "id": "ZmVjpFzWlQ4j"
      },
      "outputs": [],
      "source": [
        "(train_images, train_labels), (test_images, test_labels) = mnist.load_data()"
      ]
    },
    {
      "cell_type": "code",
      "execution_count": 41,
      "metadata": {
        "colab": {
          "base_uri": "https://localhost:8080/",
          "height": 211
        },
        "id": "GU2s3shxlQ4k",
        "outputId": "cfc12af8-de9b-4877-f048-000fd598bb97"
      },
      "outputs": [
        {
          "output_type": "display_data",
          "data": {
            "text/plain": [
              "<Figure size 432x216 with 2 Axes>"
            ],
            "image/png": "[encoded data removed]"
          },
          "metadata": {
            "needs_background": "light"
          }
        }
      ],
      "source": [
        "i = 1\n",
        "plt.figure(figsize=(6,3))\n",
        "plt.subplot(1,2,1)\n",
        "plot_image(i, pred, test_labels, test_images)\n",
        "plt.subplot(1,2,2)\n",
        "plot_value_array(i, pred,  test_labels)\n",
        "plt.show()"
      ]
    },
    {
      "cell_type": "code",
      "execution_count": 42,
      "metadata": {
        "colab": {
          "base_uri": "https://localhost:8080/",
          "height": 592
        },
        "id": "zzU0sbqjlQ4k",
        "outputId": "7f144fd5-26ab-4596-c360-884e267f5daf"
      },
      "outputs": [
        {
          "output_type": "display_data",
          "data": {
            "text/plain": [
              "<Figure size 864x720 with 30 Axes>"
            ],
            "image/png": "[encoded data removed]"
          },
          "metadata": {
            "needs_background": "light"
          }
        }
      ],
      "source": [
        "num_rows = 5\n",
        "num_cols = 3\n",
        "num_images = num_rows*num_cols\n",
        "plt.figure(figsize=(2*2*num_cols, 2*num_rows))\n",
        "for i in range(num_images):\n",
        "  plt.subplot(num_rows, 2*num_cols, 2*i+1)\n",
        "  plot_image(i, pred, test_labels, test_images)\n",
        "  plt.subplot(num_rows, 2*num_cols, 2*i+2)\n",
        "  plot_value_array(i, pred, test_labels)\n",
        "plt.show()"
      ]
    },
    {
      "cell_type": "markdown",
      "metadata": {
        "id": "7ALF7MvRlQ4k"
      },
      "source": [
        "## Plot images and probability that model predicted wrong"
      ]
    },
    {
      "cell_type": "code",
      "execution_count": 43,
      "metadata": {
        "id": "sHKJJNsNlQ4l"
      },
      "outputs": [],
      "source": [
        "def error_mnist(prediction_array, true_label):\n",
        "    error_index = []\n",
        "    \n",
        "    for i in range(true_label.shape[0]):\n",
        "        if np.argmax(prediction_array[i]) != true_label[i]:\n",
        "            error_index.append(i)\n",
        "    return error_index\n",
        "\n",
        "# change num_cols, num_rows if you want to see more result.  \n",
        "def plot_error(index, prediction_array, true_label):\n",
        "    num_cols = 5\n",
        "    num_rows = 5\n",
        "    plt.figure(figsize=(2*2*num_cols, 2*num_rows))\n",
        "\n",
        "    assert len(index) < num_cols * num_rows\n",
        "    for i in range(len(index)):\n",
        "        plt.subplot(num_rows, 2*num_cols, 2*i+1)\n",
        "        idx = index[i]\n",
        "        plt.imshow(test_images[idx])\n",
        "        plt.subplot(num_rows, 2*num_cols, 2*i+2)\n",
        "        plt.bar(range(10), prediction_array[idx])\n",
        "        plt.xticks(Number)"
      ]
    },
    {
      "cell_type": "markdown",
      "metadata": {
        "id": "5OWtksk5lQ4l"
      },
      "source": [
        "## Find index of wrong prediction\n",
        "## Plot first 10 wrong predicted images and probability"
      ]
    },
    {
      "cell_type": "code",
      "execution_count": 44,
      "metadata": {
        "colab": {
          "base_uri": "https://localhost:8080/"
        },
        "id": "LaZaMtQtlQ4l",
        "outputId": "bb3282b5-5fb1-41ad-db17-caab0deb65af"
      },
      "outputs": [
        {
          "output_type": "stream",
          "name": "stdout",
          "text": [
            "[18, 290, 320, 321, 326, 449, 450, 495, 635, 646]\n"
          ]
        }
      ],
      "source": [
        "index = error_mnist(pred, test_labels)\n",
        "index_slice = index[:10]\n",
        "print(index[:10])"
      ]
    },
    {
      "cell_type": "code",
      "execution_count": 45,
      "metadata": {
        "colab": {
          "base_uri": "https://localhost:8080/",
          "height": 257
        },
        "id": "4sKvX1zllQ4l",
        "outputId": "9d2a38ea-b040-45e1-b979-79733f887543"
      },
      "outputs": [
        {
          "output_type": "display_data",
          "data": {
            "text/plain": [
              "<Figure size 1440x720 with 20 Axes>"
            ],
            "image/png": "[encoded data removed]"
          },
          "metadata": {
            "needs_background": "light"
          }
        }
      ],
      "source": [
        "plot_error(index_slice, pred, test_labels)"
      ]
    }
  ],
  "metadata": {
    "file_extension": ".py",
    "kernelspec": {
      "display_name": "Python 3",
      "language": "python",
      "name": "python3"
    },
    "language_info": {
      "codemirror_mode": {
        "name": "ipython",
        "version": 3
      },
      "file_extension": ".py",
      "mimetype": "text/x-python",
      "name": "python",
      "nbconvert_exporter": "python",
      "pygments_lexer": "ipython3",
      "version": "3.7.4"
    },
    "mimetype": "text/x-python",
    "name": "python",
    "npconvert_exporter": "python",
    "pygments_lexer": "ipython3",
    "version": 3,
    "colab": {
      "name": "TensorFlow_mnist_example.ipynb",
      "provenance": []
    }
  },
  "nbformat": 4,
  "nbformat_minor": 0
}